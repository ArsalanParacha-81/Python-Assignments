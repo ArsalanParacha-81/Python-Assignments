{
 "cells": [
  {
   "cell_type": "markdown",
   "id": "4c43a7f5",
   "metadata": {},
   "source": [
    "1. Write a program that accepts a string from user. Your program should count and display number of\n",
    "vowels in that string."
   ]
  },
  {
   "cell_type": "code",
   "execution_count": 6,
   "id": "e5c8f9be",
   "metadata": {},
   "outputs": [
    {
     "name": "stdout",
     "output_type": "stream",
     "text": [
      "No of vowels are 12\n"
     ]
    }
   ],
   "source": [
    "text = input('Enter a string: ')\n",
    "vowel = 0\n",
    "\n",
    "for ch in text:\n",
    "    if ch in 'aeiouAEIOU':\n",
    "        vowel += 1\n",
    "\n",
    "print('No of vowels are', vowel)"
   ]
  },
  {
   "cell_type": "markdown",
   "id": "da920e46",
   "metadata": {},
   "source": [
    "2. Write a program that reads a string from keyboard and display:\n",
    "* The number of uppercase letters in the string\n",
    "* The number of lowercase letters in the string\n",
    "* The number of digits in the string\n",
    "* The number of whitespace characters in the string"
   ]
  },
  {
   "cell_type": "code",
   "execution_count": 5,
   "id": "12ceed1b",
   "metadata": {},
   "outputs": [
    {
     "name": "stdout",
     "output_type": "stream",
     "text": [
      "The number of uppercase letters: 2\n",
      "The number of lowercase letters: 33\n",
      "The number of digits: 0\n",
      "The number of whitespace characters: 8\n"
     ]
    }
   ],
   "source": [
    "text = input('Enter a string: ')\n",
    "lower = upper = digit = space = 0\n",
    "\n",
    "for ch in text:\n",
    "    if ch.isupper():\n",
    "        upper += 1\n",
    "    elif ch.islower():\n",
    "        lower += 1\n",
    "    elif ch.isdigit():\n",
    "        digit += 1\n",
    "    elif ch == ' ':\n",
    "        space += 1\n",
    "\n",
    "print('The number of uppercase letters:', upper)\n",
    "print('The number of lowercase letters:', lower)\n",
    "print('The number of digits:', digit)\n",
    "print('The number of whitespace characters:', space)"
   ]
  },
  {
   "cell_type": "markdown",
   "id": "ed6be78b",
   "metadata": {},
   "source": [
    "3. Write a Python program that accepts a string from user. Your program should create and display a new string where the first and last characters have been exchanged.\n",
    "\n",
    "For example if the user enters the string 'HELLO' then new string would be 'OELLH'"
   ]
  },
  {
   "cell_type": "code",
   "execution_count": 7,
   "id": "725ad3f4",
   "metadata": {},
   "outputs": [
    {
     "name": "stdout",
     "output_type": "stream",
     "text": [
      "New string: nakistaP\n"
     ]
    }
   ],
   "source": [
    "text = input('Enter a string: ')\n",
    "newtext = text[-1]+text[1:-1]+text[0]\n",
    "print('New string:', newtext)"
   ]
  },
  {
   "cell_type": "markdown",
   "id": "60ce44d9",
   "metadata": {
    "vscode": {
     "languageId": "markdown"
    }
   },
   "source": [
    "4. Write a Python program that accepts a string from user. Your program should create a new string in\n",
    "reverse of first string and display it.\n",
    "For example if the user enters the string 'EXAM' then new string would be 'MAXE'"
   ]
  },
  {
   "cell_type": "code",
   "execution_count": 8,
   "id": "346374ab",
   "metadata": {},
   "outputs": [
    {
     "name": "stdout",
     "output_type": "stream",
     "text": [
      "New string: ihcaraK\n"
     ]
    }
   ],
   "source": [
    "text = input('Enter a string: ')\n",
    "newtext = text[::-1]\n",
    "print('New string:', newtext)"
   ]
  },
  {
   "cell_type": "markdown",
   "id": "368cf3b0",
   "metadata": {},
   "source": [
    "5. Write a Python program that accepts a string from user. Your program should create a new string by\n",
    "shifting one position to left.\n",
    "For example if the user enters the string 'examination 2021' then new string would be 'xamination\n",
    "2021e'"
   ]
  },
  {
   "cell_type": "code",
   "execution_count": 9,
   "id": "858082d2",
   "metadata": {},
   "outputs": [
    {
     "name": "stdout",
     "output_type": "stream",
     "text": [
      "New string: xamination 2021E\n"
     ]
    }
   ],
   "source": [
    "text = input('Enter a string: ')\n",
    "newtext = text[1:] + text[0]\n",
    "print('New string:', newtext)"
   ]
  },
  {
   "cell_type": "markdown",
   "id": "7aef65a2",
   "metadata": {},
   "source": [
    "6. Write a program that asks the user to input his name and print its initials. Assuming that the user\n",
    "always types first name, middle name and last name and does not include any unnecessary spaces."
   ]
  },
  {
   "cell_type": "code",
   "execution_count": 10,
   "id": "4bdd8b4f",
   "metadata": {},
   "outputs": [
    {
     "name": "stdout",
     "output_type": "stream",
     "text": [
      "New string: A. P. P.\n"
     ]
    }
   ],
   "source": [
    "text = input('Enter a string: ')\n",
    "#index of first space\n",
    "space1 = text.find(' ')\n",
    "#index of second space\n",
    "space2 = text.find(' ',space1+1)\n",
    "newtext = text[0] +'. '  + text[space1+1] +'. ' + text[space2+1] +'.'\n",
    "print('New string:', newtext)"
   ]
  },
  {
   "cell_type": "markdown",
   "id": "4d5e4f73",
   "metadata": {},
   "source": [
    "7. A palindrome is a string that reads the same backward as forward. For example, the words dad,\n",
    "madam and radar are all palindromes. Write a programs that determines whether the string is a\n",
    "palindrome.\n",
    "Note: do not use reverse() method\n"
   ]
  },
  {
   "cell_type": "code",
   "execution_count": 12,
   "id": "45a39886",
   "metadata": {},
   "outputs": [
    {
     "name": "stdout",
     "output_type": "stream",
     "text": [
      "String is not palindome\n"
     ]
    }
   ],
   "source": [
    "text = input('Enter a string: ')\n",
    "length = len(text)\n",
    "\n",
    "flag = True\n",
    "\n",
    "for i in range(0,length//2):\n",
    "    if text[i] != text[length-1-i]:\n",
    "        flag = False\n",
    "        break\n",
    "\n",
    "if flag == True:\n",
    "    print('String is palindrome')\n",
    "else:\n",
    "    print('String is not palindome')"
   ]
  },
  {
   "cell_type": "markdown",
   "id": "6ba7086d",
   "metadata": {},
   "source": [
    "\n",
    "8. Write a program that display following output:\n",
    "SHIFT\n",
    "HIFTS\n",
    "IFTSH\n",
    "FTSHI\n",
    "TSHIF\n",
    "SHIFT"
   ]
  },
  {
   "cell_type": "code",
   "execution_count": 13,
   "id": "4bde5c5f",
   "metadata": {},
   "outputs": [
    {
     "name": "stdout",
     "output_type": "stream",
     "text": [
      "SHIFT\n",
      "HIFTS\n",
      "IFTSH\n",
      "FTSHI\n",
      "TSHIF\n",
      "SHIFT\n"
     ]
    }
   ],
   "source": [
    "text = 'SHIFT'\n",
    "for i in range(0,6):\n",
    "    newtext = text[i:] + text[:i]\n",
    "    print(newtext)"
   ]
  },
  {
   "cell_type": "markdown",
   "id": "85701b40",
   "metadata": {},
   "source": [
    "9. Write a program in python that accepts a string to setup a passwords. Your entered password must\n",
    "meet the following requirements:\n",
    "The password must be at least eight characters long.\n",
    "It must contain at least one uppercase letter.\n",
    "It must contain at least one lowercase letter.\n",
    "It must contain at least one numeric digit.\n",
    "Your program should should perform this validation."
   ]
  },
  {
   "cell_type": "code",
   "execution_count": 14,
   "id": "6bbbd4c6",
   "metadata": {},
   "outputs": [
    {
     "name": "stdout",
     "output_type": "stream",
     "text": [
      "That is a valid password.\n"
     ]
    }
   ],
   "source": [
    "length = lower = upper = digit = False\n",
    "\n",
    "password = input('Enter the password: ')\n",
    "\n",
    "if len(password)>= 8:\n",
    "    length = True\n",
    "    \n",
    "    for letter in password:\n",
    "        if letter.islower():\n",
    "            lower = True\n",
    "        elif letter.isupper():\n",
    "            upper = True\n",
    "        elif letter.isdigit():\n",
    "            digit = True\n",
    "\n",
    "\n",
    "if length and lower and upper and digit:\n",
    "    print('That is a valid password.')\n",
    "else:\n",
    "    print('That password is not valid.')"
   ]
  }
 ],
 "metadata": {
  "kernelspec": {
   "display_name": "base",
   "language": "python",
   "name": "python3"
  },
  "language_info": {
   "codemirror_mode": {
    "name": "ipython",
    "version": 3
   },
   "file_extension": ".py",
   "mimetype": "text/x-python",
   "name": "python",
   "nbconvert_exporter": "python",
   "pygments_lexer": "ipython3",
   "version": "3.13.5"
  }
 },
 "nbformat": 4,
 "nbformat_minor": 5
}
