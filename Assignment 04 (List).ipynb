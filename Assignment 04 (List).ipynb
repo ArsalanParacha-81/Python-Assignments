{
 "cells": [
  {
   "cell_type": "markdown",
   "id": "be3c5f76",
   "metadata": {},
   "source": [
    "1. Write a program that accepts a list from user and print the alternate element of list."
   ]
  },
  {
   "cell_type": "code",
   "execution_count": 4,
   "id": "7a1a03c8",
   "metadata": {},
   "outputs": [
    {
     "name": "stdout",
     "output_type": "stream",
     "text": [
      "Enter 5 elements\n",
      "Alternate elements are:\n",
      "10\n",
      "30\n",
      "50\n"
     ]
    }
   ],
   "source": [
    "mylist = []\n",
    "size = int(input('How many elements you want to enter? '))\n",
    "\n",
    "print('Enter',str(size),'elements')\n",
    "\n",
    "for i in range(size):\n",
    "    data = int(input())\n",
    "    mylist.append(data)\n",
    "\n",
    "print('Alternate elements are:')\n",
    "\n",
    "for i in range(0,size,2):\n",
    "    print(mylist[i])"
   ]
  },
  {
   "cell_type": "markdown",
   "id": "92bb3537",
   "metadata": {},
   "source": [
    "2. Write a program that accepts a list from user. Your program should reverse the content of list and\n",
    "display it. Do not use reverse() method."
   ]
  },
  {
   "cell_type": "code",
   "execution_count": 7,
   "id": "98c855b3",
   "metadata": {},
   "outputs": [
    {
     "name": "stdout",
     "output_type": "stream",
     "text": [
      "Enter 6 elements\n",
      "Reverse list: [60, 50, 40, 30, 20, 10]\n"
     ]
    }
   ],
   "source": [
    "mylist = []\n",
    "size = int(input('How many elements you want to enter? '))\n",
    "\n",
    "print('Enter',str(size),'elements')\n",
    "\n",
    "for i in range(size):\n",
    "    data = int(input())\n",
    "    mylist.append(data)\n",
    "\n",
    "#reverse the list\n",
    "for i in range(size//2):\n",
    "    #swapping elements\n",
    "    mylist[i],mylist[len(mylist)-1-i] = mylist[len(mylist)-1-i], mylist[i]\n",
    "\n",
    "print('Reverse list:', mylist)"
   ]
  },
  {
   "cell_type": "markdown",
   "id": "ca1bfe6b",
   "metadata": {},
   "source": [
    "3. Find and display the largest number of a list without using built-in function max(). Your program\n",
    "should ask the user to input values in list from keyboard."
   ]
  },
  {
   "cell_type": "code",
   "execution_count": 8,
   "id": "550feca5",
   "metadata": {},
   "outputs": [
    {
     "name": "stdout",
     "output_type": "stream",
     "text": [
      "Enter 10 positive numbers\n",
      "The largest number in list is 86\n"
     ]
    }
   ],
   "source": [
    "mylist = []\n",
    "size = int(input('How many elements you want to enter? '))\n",
    "\n",
    "print('Enter',str(size),'positive numbers')\n",
    "\n",
    "for i in range(size):\n",
    "    data = int(input())\n",
    "    mylist.append(data)\n",
    "\n",
    "max = 0\n",
    "for data in mylist:\n",
    "    if data > max:\n",
    "        max = data\n",
    "\n",
    "print('The largest number in list is', max)"
   ]
  },
  {
   "cell_type": "markdown",
   "id": "ff776dd0",
   "metadata": {},
   "source": [
    "4. Write a program that rotates the element of a list so that the element at the first index moves to the\n",
    "second index, the element in the second index moves to the third index, etc., and the element in the last\n",
    "index moves to the first index."
   ]
  },
  {
   "cell_type": "code",
   "execution_count": 9,
   "id": "277852d8",
   "metadata": {},
   "outputs": [
    {
     "name": "stdout",
     "output_type": "stream",
     "text": [
      "Enter 10 elements\n",
      "list before shifting ['25', '35', '45', '55', '65', '75', '85', '90', '105', '115']\n",
      "list after shifting ['115', '25', '35', '45', '55', '65', '75', '85', '90', '105']\n"
     ]
    }
   ],
   "source": [
    "mylist = []\n",
    "size = int(input('How many elements you want to enter? '))\n",
    "\n",
    "print('Enter',str(size),'elements')\n",
    "\n",
    "for i in range(size):\n",
    "    data = input()\n",
    "    mylist.append(data)\n",
    "    \n",
    "print('list before shifting', mylist)\n",
    "\n",
    "temp = mylist[size-1]\n",
    "\n",
    "for i in range(size-1,0,-1):\n",
    "    mylist[i] = mylist[i-1]\n",
    "\n",
    "mylist[0] = temp\n",
    "\n",
    "print('list after shifting', mylist)"
   ]
  },
  {
   "cell_type": "markdown",
   "id": "09e0a11b",
   "metadata": {},
   "source": [
    "5. Write a program that input a string and ask user to delete a given word from a string."
   ]
  },
  {
   "cell_type": "code",
   "execution_count": 12,
   "id": "0e228d06",
   "metadata": {},
   "outputs": [
    {
     "name": "stdout",
     "output_type": "stream",
     "text": [
      "String after deletion: Ali is playing\n"
     ]
    }
   ],
   "source": [
    "text = input('Enter a string: ')\n",
    "words = text.split()\n",
    "\n",
    "data = input('Enter a word to delete: ')\n",
    "status = False\n",
    "\n",
    "for word in words:\n",
    "    if word == data:\n",
    "        words.remove(word)\n",
    "        status = True\n",
    "\n",
    "if status:\n",
    "    text = ' '.join(words)\n",
    "    print('String after deletion:',text)\n",
    "else:\n",
    "    print('Word not present in string.')"
   ]
  },
  {
   "cell_type": "markdown",
   "id": "448784a8",
   "metadata": {},
   "source": [
    "6. Write a program that reads a string from the user containing a date in the form mm/dd/yyyy. It\n",
    "should print the date in the form March 12, 2021."
   ]
  },
  {
   "cell_type": "code",
   "execution_count": 13,
   "id": "d6bac07e",
   "metadata": {},
   "outputs": [
    {
     "name": "stdout",
     "output_type": "stream",
     "text": [
      "March 6,2022\n"
     ]
    }
   ],
   "source": [
    "mydate = input('Enter a date(mm/dd/yyyy): ')\n",
    "datelist = mydate.split('/')\n",
    "\n",
    "month = int(datelist[0])\n",
    "day = int(datelist[1])\n",
    "year = int(datelist[2])\n",
    "\n",
    "if month == 1:\n",
    "    month = 'January'\n",
    "elif month == 2:\n",
    "    month = 'February'\n",
    "elif month == 3:\n",
    "    month = 'March'\n",
    "elif month == 4:\n",
    "    month = 'April'\n",
    "elif month == 5:\n",
    "    month = 'May'\n",
    "elif month == 6:\n",
    "    month = 'June'\n",
    "elif month == 7:\n",
    "    month = 'July'\n",
    "elif month == 8:\n",
    "    month = 'August'\n",
    "elif month == 9:\n",
    "    month = 'September'\n",
    "elif month == 2:\n",
    "    month = 'October'\n",
    "elif month == 2:\n",
    "    month = 'November'\n",
    "elif month == 12:\n",
    "    month = 'December'\n",
    "    \n",
    "newdate = month + ' ' + str(day) + ',' + str(year) \n",
    "\n",
    "print(newdate)\n"
   ]
  },
  {
   "cell_type": "markdown",
   "id": "44fbf9f5",
   "metadata": {},
   "source": [
    "7. Write a program with a function that accepts a string from keyboard and create a new string after\n",
    "converting character of each word capitalized. For instance, if the sentence is \"stop and smell the roses.\"\n",
    "the output should be \"Stop And Smell The Roses\""
   ]
  },
  {
   "cell_type": "markdown",
   "id": "32a4ecc5",
   "metadata": {},
   "source": [
    "8. Find the sum of each row of matrix of size m x n. For example for the following matrix output will be like this :\n",
    "\n",
    "\n",
    "Sum of row 1 = 32\n",
    "Sum of row 2 = 31\n",
    "Sum of row 3 = 63"
   ]
  },
  {
   "cell_type": "code",
   "execution_count": 14,
   "id": "76e64e2b",
   "metadata": {},
   "outputs": [
    {
     "name": "stdout",
     "output_type": "stream",
     "text": [
      "Enter values in matrix :\n",
      "10 30 40 50 \n",
      "60 70 80 90 \n",
      "11 22 33 44 \n",
      "Sum of row 1 : 130\n",
      "Sum of row 2 : 300\n",
      "Sum of row 3 : 110\n"
     ]
    }
   ],
   "source": [
    "n = int(input(\"Enter the number of rows:\")) \n",
    "m = int(input(\"Enter the number of columns:\")) \n",
    "  \n",
    "matrix = [] \n",
    "\n",
    "print(\"Enter values in matrix :\") \n",
    "\n",
    "# For user input \n",
    "for i in range(n):\n",
    "    data =[] \n",
    "    for j in range(m):\n",
    "         data.append(int(input())) \n",
    "    matrix.append(data) \n",
    "\n",
    "# For printing the matrix \n",
    "for i in range(n): \n",
    "    for j in range(m): \n",
    "        print(matrix[i][j], end = \" \") \n",
    "    print()\n",
    "\n",
    "\n",
    "# For printing row wise sum \n",
    "for i in range(n):\n",
    "    sum = 0\n",
    "    for j in range(m): \n",
    "        sum = sum + matrix[i][j]\n",
    "    print('Sum of row',i+1,':',sum)"
   ]
  },
  {
   "cell_type": "code",
   "execution_count": null,
   "id": "cea7f889",
   "metadata": {},
   "outputs": [],
   "source": []
  }
 ],
 "metadata": {
  "kernelspec": {
   "display_name": "base",
   "language": "python",
   "name": "python3"
  },
  "language_info": {
   "codemirror_mode": {
    "name": "ipython",
    "version": 3
   },
   "file_extension": ".py",
   "mimetype": "text/x-python",
   "name": "python",
   "nbconvert_exporter": "python",
   "pygments_lexer": "ipython3",
   "version": "3.13.5"
  }
 },
 "nbformat": 4,
 "nbformat_minor": 5
}
